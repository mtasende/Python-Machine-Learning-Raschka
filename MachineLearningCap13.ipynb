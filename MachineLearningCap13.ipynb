{
 "cells": [
  {
   "cell_type": "code",
   "execution_count": 24,
   "metadata": {
    "collapsed": false
   },
   "outputs": [
    {
     "name": "stdout",
     "output_type": "stream",
     "text": [
      "Net input: 2.50\n"
     ]
    }
   ],
   "source": [
    "%matplotlib inline\n",
    "#pip install Theano\n",
    "\n",
    "import theano\n",
    "from theano import tensor as T\n",
    "\n",
    "#initialize\n",
    "x1 = T.scalar()\n",
    "w1 = T.scalar()\n",
    "w0 = T.scalar()\n",
    "z1 = w1 * x1 + w0\n",
    "\n",
    "#compile\n",
    "net_input = theano.function(inputs=[w1,x1,w0],outputs=z1)\n",
    "\n",
    "#execute\n",
    "print('Net input: %.2f' %net_input(2.0,1.0,0.5))"
   ]
  },
  {
   "cell_type": "code",
   "execution_count": 25,
   "metadata": {
    "collapsed": false
   },
   "outputs": [
    {
     "name": "stdout",
     "output_type": "stream",
     "text": [
      "float32\n"
     ]
    }
   ],
   "source": [
    "print(theano.config.floatX)"
   ]
  },
  {
   "cell_type": "code",
   "execution_count": 26,
   "metadata": {
    "collapsed": true
   },
   "outputs": [],
   "source": [
    "theano.config.floatX = 'float32'"
   ]
  },
  {
   "cell_type": "code",
   "execution_count": 27,
   "metadata": {
    "collapsed": false
   },
   "outputs": [
    {
     "name": "stdout",
     "output_type": "stream",
     "text": [
      "float32\n"
     ]
    }
   ],
   "source": [
    "print(theano.config.floatX)"
   ]
  },
  {
   "cell_type": "code",
   "execution_count": 28,
   "metadata": {
    "collapsed": true
   },
   "outputs": [],
   "source": [
    "#Otras opciones:\n",
    "# export THEANO_FLAGS=floatX=float32    (en bash)\n",
    "#THEANO_FLAGS=floatX=float32 python the_script.py    (al ejecutar el script)"
   ]
  },
  {
   "cell_type": "code",
   "execution_count": 29,
   "metadata": {
    "collapsed": false
   },
   "outputs": [
    {
     "name": "stdout",
     "output_type": "stream",
     "text": [
      "cpu\n"
     ]
    }
   ],
   "source": [
    "print(theano.config.device)"
   ]
  },
  {
   "cell_type": "code",
   "execution_count": 30,
   "metadata": {
    "collapsed": true
   },
   "outputs": [],
   "source": [
    "#Por ejemplo, se puede:\n",
    "#THEANO_FLAGS=device=gpu,floatX=float32 python the_script.py\n",
    "#echo -e \"\\n[global]\\nfloatX=float32\\ndevice=gpu\\n\" >> ~/.theanorc  (para hacerlo permanente)"
   ]
  },
  {
   "cell_type": "code",
   "execution_count": 31,
   "metadata": {
    "collapsed": false
   },
   "outputs": [
    {
     "name": "stdout",
     "output_type": "stream",
     "text": [
      "Column sum: [ 2.  4.  6.]\n"
     ]
    }
   ],
   "source": [
    "import numpy as np\n",
    "\n",
    "#initialize\n",
    "#Para 64 bit, habría que usar \"dmatrix\" en vez de \"fmatrix\"\n",
    "x = T.fmatrix(name='x')\n",
    "x_sum = T.sum(x,axis=0)\n",
    "\n",
    "#compile\n",
    "calc_sum = theano.function(inputs=[x],outputs=x_sum)\n",
    "\n",
    "#execute (Python list)\n",
    "ary = [[1,2,3],[1,2,3]]\n",
    "print('Column sum:',calc_sum(ary))"
   ]
  },
  {
   "cell_type": "code",
   "execution_count": 32,
   "metadata": {
    "collapsed": false
   },
   "outputs": [
    {
     "name": "stdout",
     "output_type": "stream",
     "text": [
      "Column sum: [ 2.  4.  6.]\n"
     ]
    }
   ],
   "source": [
    "#execute (numpy array)\n",
    "ary = np.array([[1,2,3],[1,2,3]], dtype=theano.config.floatX)\n",
    "print('Column sum:',calc_sum(ary))"
   ]
  },
  {
   "cell_type": "code",
   "execution_count": 33,
   "metadata": {
    "collapsed": false
   },
   "outputs": [
    {
     "name": "stdout",
     "output_type": "stream",
     "text": [
      "x\n"
     ]
    }
   ],
   "source": [
    "print(x) #Muestra el nombre, si se le dio alguno. Si no, muestra el tipo de tensor"
   ]
  },
  {
   "cell_type": "code",
   "execution_count": 34,
   "metadata": {
    "collapsed": false
   },
   "outputs": [
    {
     "name": "stdout",
     "output_type": "stream",
     "text": [
      "<TensorType(float32, matrix)>\n"
     ]
    }
   ],
   "source": [
    "print(x.type())"
   ]
  },
  {
   "cell_type": "code",
   "execution_count": 35,
   "metadata": {
    "collapsed": false
   },
   "outputs": [
    {
     "name": "stdout",
     "output_type": "stream",
     "text": [
      "z0:  [[ 0.]]\n",
      "z1:  [[ 6.]]\n",
      "z2:  [[ 12.]]\n",
      "z3:  [[ 18.]]\n",
      "z4:  [[ 24.]]\n"
     ]
    }
   ],
   "source": [
    "#initialize\n",
    "x = T.fmatrix('x')\n",
    "w = theano.shared(np.asarray([[0.0, 0.0, 0.0]],dtype=theano.config.floatX))\n",
    "z = x.dot(w.T)\n",
    "update = [[w,w+1.0]]\n",
    "\n",
    "#compile\n",
    "net_input = theano.function(inputs=[x],updates=update,outputs=z)\n",
    "\n",
    "#execute\n",
    "data = np.array([[1,2,3]],dtype=theano.config.floatX)\n",
    "for i in range(5):\n",
    "    print('z%d: '% i,net_input(data))\n"
   ]
  },
  {
   "cell_type": "code",
   "execution_count": 36,
   "metadata": {
    "collapsed": false
   },
   "outputs": [
    {
     "name": "stdout",
     "output_type": "stream",
     "text": [
      "z:  [[ 0.]]\n",
      "z:  [[ 6.]]\n",
      "z:  [[ 12.]]\n",
      "z:  [[ 18.]]\n",
      "z:  [[ 24.]]\n"
     ]
    }
   ],
   "source": [
    "#initialize\n",
    "data = np.array([[1,2,3]],dtype=theano.config.floatX)\n",
    "x = T.fmatrix('x')\n",
    "w = theano.shared(np.asarray([[0.0,0.0,0.0]],dtype=theano.config.floatX))\n",
    "z = x.dot(w.T)\n",
    "update = [[w,w+1.0]]\n",
    "\n",
    "#compile\n",
    "net_input = theano.function(inputs=[], updates=update, givens={x:data}, outputs=z)\n",
    "\n",
    "#execute\n",
    "for i in range(5):\n",
    "    print('z: ',net_input())"
   ]
  },
  {
   "cell_type": "code",
   "execution_count": 37,
   "metadata": {
    "collapsed": true
   },
   "outputs": [],
   "source": [
    "#Linear Regression Example\n",
    "\n",
    "X_train = np.asarray([[0.0],[1.0],[2.0],[3.0],[4.0],[5.0],[6.0],[7.0],\n",
    "                     [8.0],[9.0]],dtype=theano.config.floatX)\n",
    "y_train = np.asarray([1.0, 1.3, 3.1, 2.0, 5.0, 6.3, 6.6, 7.4, 8.0, 9.0],dtype=theano.config.floatX)\n"
   ]
  },
  {
   "cell_type": "code",
   "execution_count": 38,
   "metadata": {
    "collapsed": true
   },
   "outputs": [],
   "source": [
    "import theano\n",
    "from theano import tensor as T\n",
    "import numpy as np\n",
    "\n",
    "def train_linreg(X_train,y_train,eta,epochs):\n",
    "    costs = []\n",
    "    #initialize arrays\n",
    "    eta0 = T.scalar('eta0')\n",
    "    y = T.fvector('y')\n",
    "    X = T.fmatrix('X')\n",
    "    w = theano.shared(np.zeros(shape=(X_train.shape[1]+1),dtype=theano.config.floatX),name='w')\n",
    "    \n",
    "    #calculate cost\n",
    "    net_input = T.dot(X,w[1:]) + w[0]\n",
    "    errors = y - net_input\n",
    "    cost = T.sum(T.pow(errors,2))\n",
    "    \n",
    "    #perform gradient update\n",
    "    gradient = T.grad(cost,wrt=w)\n",
    "    update = [(w, w - eta0 * gradient)]\n",
    "    \n",
    "    #compile model\n",
    "    train = theano.function(inputs=[eta0],outputs=cost,updates=update,givens={X: X_train, y:y_train})\n",
    "    \n",
    "    for _ in range(epochs):\n",
    "        costs.append(train(eta))\n",
    "    \n",
    "    return costs,w\n"
   ]
  },
  {
   "cell_type": "code",
   "execution_count": 39,
   "metadata": {
    "collapsed": false
   },
   "outputs": [
    {
     "data": {
      "image/png": "[encoded data removed]",
      "text/plain": [
       "<matplotlib.figure.Figure at 0x111b7d5c0>"
      ]
     },
     "metadata": {},
     "output_type": "display_data"
    }
   ],
   "source": [
    "import matplotlib.pyplot as plt\n",
    "costs,w = train_linreg(X_train, y_train, eta=0.001, epochs=10)\n",
    "plt.plot(range(1,len(costs)+1),costs)\n",
    "plt.tight_layout()\n",
    "plt.xlabel('epoch')\n",
    "plt.ylabel('cost')\n",
    "plt.show()"
   ]
  },
  {
   "cell_type": "code",
   "execution_count": 40,
   "metadata": {
    "collapsed": true
   },
   "outputs": [],
   "source": [
    "def predict_linreg(X,w):\n",
    "    Xt = T.matrix(name='X')\n",
    "    net_input = T.dot(Xt,w[1:]) + w[0]\n",
    "    predict = theano.function(inputs=[Xt],givens={w: w},outputs=net_input)\n",
    "    \n",
    "    return predict(X)"
   ]
  },
  {
   "cell_type": "code",
   "execution_count": 41,
   "metadata": {
    "collapsed": false
   },
   "outputs": [
    {
     "data": {
      "image/png": "[encoded data removed]",
      "text/plain": [
       "<matplotlib.figure.Figure at 0x111e42f60>"
      ]
     },
     "metadata": {},
     "output_type": "display_data"
    }
   ],
   "source": [
    "plt.scatter(X_train,y_train,marker='s',s=50)\n",
    "#print('Xtrain.shape: ',X_train.shape,'\\n Predict_linreg: ',predict_linreg(X_train,w))\n",
    "plt.plot(range(X_train.shape[0]),predict_linreg(X_train,w),\n",
    "        color='gray',\n",
    "        marker='o',\n",
    "        markersize=4,\n",
    "        linewidth=3)\n",
    "plt.xlabel('x')\n",
    "plt.ylabel('y')\n",
    "plt.show()"
   ]
  },
  {
   "cell_type": "code",
   "execution_count": 42,
   "metadata": {
    "collapsed": false
   },
   "outputs": [
    {
     "name": "stdout",
     "output_type": "stream",
     "text": [
      "P(y=1|x) = 0.707\n"
     ]
    }
   ],
   "source": [
    "X = np.array([[1.0, 1.4, 1.5]])\n",
    "w = np.array([0.0,0.2,0.4])\n",
    "\n",
    "def net_input(X,w):\n",
    "    z = X.dot(w)\n",
    "    return z\n",
    "\n",
    "def logistic(z):\n",
    "    return 1.0 / (1.0 + np.exp(-z))\n",
    "\n",
    "def logistic_activation(X,w):\n",
    "    z = net_input(X,w)\n",
    "    return logistic(z)\n",
    "\n",
    "print('P(y=1|x) = %.3f' % logistic_activation(X,w)[0])"
   ]
  },
  {
   "cell_type": "code",
   "execution_count": 43,
   "metadata": {
    "collapsed": false
   },
   "outputs": [
    {
     "name": "stdout",
     "output_type": "stream",
     "text": [
      "Probabilities:\n",
      " [[ 0.87653295]\n",
      " [ 0.57688526]\n",
      " [ 0.90114393]]\n"
     ]
    }
   ],
   "source": [
    "#Con múltiples clases\n",
    "W = np.array([[1.1,1.2,1.3,0.5],\n",
    "             [0.1,0.2,0.4,0.1],\n",
    "            [0.2,0.5,2.1,1.9]])\n",
    "A = np.array([[1.0],\n",
    "             [0.1],\n",
    "             [0.3],\n",
    "             [0.7]])\n",
    "Z = W.dot(A)\n",
    "y_probas = logistic(Z)\n",
    "\n",
    "print('Probabilities:\\n',y_probas)"
   ]
  },
  {
   "cell_type": "code",
   "execution_count": 44,
   "metadata": {
    "collapsed": false
   },
   "outputs": [
    {
     "name": "stdout",
     "output_type": "stream",
     "text": [
      "predicted class label: 2\n"
     ]
    }
   ],
   "source": [
    "#Se ve que las \"probabilidades\" no suman 1, con la función logística\n",
    "y_class = np.argmax(Z,axis=0)\n",
    "print('predicted class label: %d'%y_class[0])"
   ]
  },
  {
   "cell_type": "code",
   "execution_count": 45,
   "metadata": {
    "collapsed": false
   },
   "outputs": [
    {
     "name": "stdout",
     "output_type": "stream",
     "text": [
      "Probabilities:\n",
      " [[ 0.40386493]\n",
      " [ 0.07756222]\n",
      " [ 0.51857284]]\n"
     ]
    }
   ],
   "source": [
    "def softmax(z):\n",
    "    return np.exp(z) / np.sum(np.exp(z))\n",
    "\n",
    "def softmax_activation(X,w):\n",
    "    z = net_input(X,w)\n",
    "    return softmax(z)\n",
    "\n",
    "y_probas = softmax(Z)\n",
    "print('Probabilities:\\n',y_probas)"
   ]
  },
  {
   "cell_type": "code",
   "execution_count": 46,
   "metadata": {
    "collapsed": false
   },
   "outputs": [
    {
     "data": {
      "text/plain": [
       "1.0"
      ]
     },
     "execution_count": 46,
     "metadata": {},
     "output_type": "execute_result"
    }
   ],
   "source": [
    "y_probas.sum()"
   ]
  },
  {
   "cell_type": "code",
   "execution_count": 47,
   "metadata": {
    "collapsed": false
   },
   "outputs": [
    {
     "name": "stdout",
     "output_type": "stream",
     "text": [
      "predicted class label: 2\n"
     ]
    }
   ],
   "source": [
    "y_class = np.argmax(Z,axis=0)\n",
    "print('predicted class label: %d'%y_class[0])"
   ]
  },
  {
   "cell_type": "code",
   "execution_count": 48,
   "metadata": {
    "collapsed": false
   },
   "outputs": [
    {
     "data": {
      "image/png": "[encoded data removed]",
      "text/plain": [
       "<matplotlib.figure.Figure at 0x111ebc3c8>"
      ]
     },
     "metadata": {},
     "output_type": "display_data"
    }
   ],
   "source": [
    "def tanh(z):\n",
    "    e_p = np.exp(z) \n",
    "    e_m = np.exp(-z)\n",
    "    return (e_p - e_m) / (e_p + e_m)  \n",
    "\n",
    "import matplotlib.pyplot as plt\n",
    "\n",
    "z = np.arange(-5, 5, 0.005)\n",
    "log_act = logistic(z)\n",
    "tanh_act = tanh(z)\n",
    "\n",
    "# alternatives:\n",
    "# from scipy.special import expit\n",
    "# log_act = expit(z)\n",
    "# tanh_act = np.tanh(z)\n",
    "\n",
    "plt.ylim([-1.5, 1.5])\n",
    "plt.xlabel('net input $z$')\n",
    "plt.ylabel('activation $\\phi(z)$')\n",
    "plt.axhline(1, color='black', linestyle='--')\n",
    "plt.axhline(0.5, color='black', linestyle='--')\n",
    "plt.axhline(0, color='black', linestyle='--')\n",
    "plt.axhline(-1, color='black', linestyle='--')\n",
    "\n",
    "plt.plot(z, tanh_act, \n",
    "         linewidth=2, \n",
    "         color='black', \n",
    "         label='tanh')\n",
    "plt.plot(z, log_act, \n",
    "         linewidth=2, \n",
    "         color='lightgreen', \n",
    "         label='logistic')\n",
    "\n",
    "plt.legend(loc='lower right')\n",
    "plt.tight_layout()\n",
    "\n",
    "plt.show()"
   ]
  },
  {
   "cell_type": "code",
   "execution_count": 49,
   "metadata": {
    "collapsed": true
   },
   "outputs": [],
   "source": [
    "# Keras:  >pip install Keras\n",
    "#http://yann.lecun.com/exdb/mnist\n",
    "\n",
    "import os\n",
    "import struct\n",
    "import numpy as np\n",
    "\n",
    "def load_mnist(path, kind='train'):\n",
    "    \"\"\"Load MNIST data from 'path'\"\"\"\n",
    "    labels_path = os.path.join(path,'%s-labels.idx1-ubyte'%kind)\n",
    "    images_path = os.path.join(path,'%s-images.idx3-ubyte'%kind)\n",
    "    with open(labels_path, 'rb') as lbpath:\n",
    "        magic,n = struct.unpack('>II',lbpath.read(8))\n",
    "        labels = np.fromfile(lbpath,dtype=np.uint8)\n",
    "    with open(images_path,'rb') as imgpath:\n",
    "        masgic,num,rows,cols = struct.unpack(\">IIII\",imgpath.read(16))\n",
    "        images = np.fromfile(imgpath,dtype=np.uint8).reshape(len(labels),784)\n",
    "\n",
    "    return images, labels"
   ]
  },
  {
   "cell_type": "code",
   "execution_count": 50,
   "metadata": {
    "collapsed": false
   },
   "outputs": [
    {
     "name": "stdout",
     "output_type": "stream",
     "text": [
      "Rows: 60000, columns: 784\n"
     ]
    }
   ],
   "source": [
    "X_train,y_train = load_mnist('/Users/antelInvestigacion/IA/mnist',kind='train')\n",
    "print('Rows: %d, columns: %d'%(X_train.shape[0], X_train.shape[1]))"
   ]
  },
  {
   "cell_type": "code",
   "execution_count": 51,
   "metadata": {
    "collapsed": false
   },
   "outputs": [
    {
     "name": "stdout",
     "output_type": "stream",
     "text": [
      "Rows: 10000, columns: 784\n"
     ]
    }
   ],
   "source": [
    "X_test,y_test = load_mnist('/Users/antelInvestigacion/IA/mnist',kind='t10k')\n",
    "print('Rows: %d, columns: %d'%(X_test.shape[0], X_test.shape[1]))"
   ]
  },
  {
   "cell_type": "code",
   "execution_count": 52,
   "metadata": {
    "collapsed": true
   },
   "outputs": [],
   "source": [
    "import theano\n",
    "theano.config.floatX = 'float32'\n",
    "X_train = X_train.astype(theano.config.floatX)\n",
    "y_train = y_train.astype(theano.config.floatX)"
   ]
  },
  {
   "cell_type": "code",
   "execution_count": 53,
   "metadata": {
    "collapsed": false
   },
   "outputs": [
    {
     "name": "stdout",
     "output_type": "stream",
     "text": [
      "First 3 labels:  [ 5.  0.  4.]\n"
     ]
    }
   ],
   "source": [
    "from keras.utils import np_utils\n",
    "print('First 3 labels: ',y_train[:3])"
   ]
  },
  {
   "cell_type": "code",
   "execution_count": 55,
   "metadata": {
    "collapsed": false
   },
   "outputs": [
    {
     "name": "stdout",
     "output_type": "stream",
     "text": [
      "First 3 labels (one-hot):  [[ 0.  0.  0.  0.  0.  1.  0.  0.  0.  0.]\n",
      " [ 1.  0.  0.  0.  0.  0.  0.  0.  0.  0.]\n",
      " [ 0.  0.  0.  0.  1.  0.  0.  0.  0.  0.]]\n"
     ]
    }
   ],
   "source": [
    "y_train_ohe = np_utils.to_categorical(y_train)\n",
    "print('First 3 labels (one-hot): ',y_train_ohe[:3])"
   ]
  },
  {
   "cell_type": "code",
   "execution_count": 56,
   "metadata": {
    "collapsed": true
   },
   "outputs": [],
   "source": [
    "from keras.models import Sequential\n",
    "from keras.layers.core import Dense\n",
    "from keras.optimizers import SGD\n",
    "\n",
    "np.random.seed(1)\n",
    "\n",
    "model = Sequential()\n",
    "model.add(Dense(input_dim=X_train.shape[1],\n",
    "               output_dim=50,\n",
    "               init='uniform',\n",
    "               activation='tanh'))\n",
    "\n",
    "model.add(Dense(input_dim=50,\n",
    "               output_dim=50,\n",
    "               init='uniform',\n",
    "               activation='tanh'))\n",
    "\n",
    "model.add(Dense(input_dim=50,\n",
    "               output_dim=y_train_ohe.shape[1],\n",
    "               init='uniform',\n",
    "               activation='softmax'))\n",
    "\n",
    "sgd = SGD(lr=0.001,decay=1e-7,momentum=.9)\n",
    "model.compile(loss='categorical_crossentropy',optimizer=sgd,metrics=[\"accuracy\"])"
   ]
  },
  {
   "cell_type": "code",
   "execution_count": 62,
   "metadata": {
    "collapsed": false
   },
   "outputs": [
    {
     "name": "stdout",
     "output_type": "stream",
     "text": [
      "Train on 54000 samples, validate on 6000 samples\n",
      "Epoch 1/50\n",
      "54000/54000 [==============================] - 0s - loss: 0.1213 - val_loss: 0.1400\n",
      "Epoch 2/50\n",
      "54000/54000 [==============================] - 0s - loss: 0.1249 - val_loss: 0.1388\n",
      "Epoch 3/50\n",
      "54000/54000 [==============================] - 0s - loss: 0.1231 - val_loss: 0.1402\n",
      "Epoch 4/50\n",
      "54000/54000 [==============================] - 0s - loss: 0.1261 - val_loss: 0.1344\n",
      "Epoch 5/50\n",
      "54000/54000 [==============================] - 0s - loss: 0.1257 - val_loss: 0.1402\n",
      "Epoch 6/50\n",
      "54000/54000 [==============================] - 0s - loss: 0.1213 - val_loss: 0.1296\n",
      "Epoch 7/50\n",
      "54000/54000 [==============================] - 0s - loss: 0.1221 - val_loss: 0.1270\n",
      "Epoch 8/50\n",
      "54000/54000 [==============================] - 0s - loss: 0.1214 - val_loss: 0.1402\n",
      "Epoch 9/50\n",
      "54000/54000 [==============================] - 0s - loss: 0.1218 - val_loss: 0.1424\n",
      "Epoch 10/50\n",
      "54000/54000 [==============================] - 0s - loss: 0.1232 - val_loss: 0.1328\n",
      "Epoch 11/50\n",
      "54000/54000 [==============================] - 0s - loss: 0.1177 - val_loss: 0.1309\n",
      "Epoch 12/50\n",
      "54000/54000 [==============================] - 0s - loss: 0.1186 - val_loss: 0.1364\n",
      "Epoch 13/50\n",
      "54000/54000 [==============================] - 0s - loss: 0.1164 - val_loss: 0.1328\n",
      "Epoch 14/50\n",
      "54000/54000 [==============================] - 0s - loss: 0.1183 - val_loss: 0.1335\n",
      "Epoch 15/50\n",
      "54000/54000 [==============================] - 0s - loss: 0.1160 - val_loss: 0.1301\n",
      "Epoch 16/50\n",
      "54000/54000 [==============================] - 0s - loss: 0.1191 - val_loss: 0.1330\n",
      "Epoch 17/50\n",
      "54000/54000 [==============================] - 0s - loss: 0.1151 - val_loss: 0.1319\n",
      "Epoch 18/50\n",
      "54000/54000 [==============================] - 0s - loss: 0.1105 - val_loss: 0.1324\n",
      "Epoch 19/50\n",
      "54000/54000 [==============================] - 0s - loss: 0.1140 - val_loss: 0.1285\n",
      "Epoch 20/50\n",
      "54000/54000 [==============================] - 0s - loss: 0.1153 - val_loss: 0.1313\n",
      "Epoch 21/50\n",
      "54000/54000 [==============================] - 0s - loss: 0.1165 - val_loss: 0.1270\n",
      "Epoch 22/50\n",
      "54000/54000 [==============================] - 0s - loss: 0.1115 - val_loss: 0.1299\n",
      "Epoch 23/50\n",
      "54000/54000 [==============================] - 0s - loss: 0.1155 - val_loss: 0.1312\n",
      "Epoch 24/50\n",
      "54000/54000 [==============================] - 0s - loss: 0.1120 - val_loss: 0.1270\n",
      "Epoch 25/50\n",
      "54000/54000 [==============================] - 0s - loss: 0.1109 - val_loss: 0.1280\n",
      "Epoch 26/50\n",
      "54000/54000 [==============================] - 0s - loss: 0.1171 - val_loss: 0.1399\n",
      "Epoch 27/50\n",
      "54000/54000 [==============================] - 0s - loss: 0.1241 - val_loss: 0.1358\n",
      "Epoch 28/50\n",
      "54000/54000 [==============================] - 0s - loss: 0.1168 - val_loss: 0.1400\n",
      "Epoch 29/50\n",
      "54000/54000 [==============================] - 0s - loss: 0.1170 - val_loss: 0.1294\n",
      "Epoch 30/50\n",
      "54000/54000 [==============================] - 0s - loss: 0.1126 - val_loss: 0.1354\n",
      "Epoch 31/50\n",
      "54000/54000 [==============================] - 0s - loss: 0.1166 - val_loss: 0.1343\n",
      "Epoch 32/50\n",
      "54000/54000 [==============================] - 0s - loss: 0.1154 - val_loss: 0.1346\n",
      "Epoch 33/50\n",
      "54000/54000 [==============================] - 0s - loss: 0.1107 - val_loss: 0.1298\n",
      "Epoch 34/50\n",
      "54000/54000 [==============================] - 0s - loss: 0.1075 - val_loss: 0.1276\n",
      "Epoch 35/50\n",
      "54000/54000 [==============================] - 0s - loss: 0.1096 - val_loss: 0.1343\n",
      "Epoch 36/50\n",
      "54000/54000 [==============================] - 0s - loss: 0.1122 - val_loss: 0.1377\n",
      "Epoch 37/50\n",
      "54000/54000 [==============================] - 0s - loss: 0.1118 - val_loss: 0.1391\n",
      "Epoch 38/50\n",
      "54000/54000 [==============================] - 0s - loss: 0.1135 - val_loss: 0.1396\n",
      "Epoch 39/50\n",
      "54000/54000 [==============================] - 0s - loss: 0.1098 - val_loss: 0.1235\n",
      "Epoch 40/50\n",
      "54000/54000 [==============================] - 0s - loss: 0.1059 - val_loss: 0.1270\n",
      "Epoch 41/50\n",
      "54000/54000 [==============================] - 0s - loss: 0.1082 - val_loss: 0.1341\n",
      "Epoch 42/50\n",
      "54000/54000 [==============================] - 0s - loss: 0.1104 - val_loss: 0.1298\n",
      "Epoch 43/50\n",
      "54000/54000 [==============================] - 0s - loss: 0.1110 - val_loss: 0.1325\n",
      "Epoch 44/50\n",
      "54000/54000 [==============================] - 0s - loss: 0.1108 - val_loss: 0.1383\n",
      "Epoch 45/50\n",
      "54000/54000 [==============================] - 0s - loss: 0.1125 - val_loss: 0.1275\n",
      "Epoch 46/50\n",
      "54000/54000 [==============================] - 0s - loss: 0.1143 - val_loss: 0.1363\n",
      "Epoch 47/50\n",
      "54000/54000 [==============================] - 0s - loss: 0.1112 - val_loss: 0.1310\n",
      "Epoch 48/50\n",
      "54000/54000 [==============================] - 0s - loss: 0.1121 - val_loss: 0.1402\n",
      "Epoch 49/50\n",
      "54000/54000 [==============================] - 0s - loss: 0.1164 - val_loss: 0.1308\n",
      "Epoch 50/50\n",
      "54000/54000 [==============================] - 0s - loss: 0.1112 - val_loss: 0.1310\n"
     ]
    },
    {
     "data": {
      "text/plain": [
       "<keras.callbacks.History at 0x11203f550>"
      ]
     },
     "execution_count": 62,
     "metadata": {},
     "output_type": "execute_result"
    }
   ],
   "source": [
    "model.fit(X_train,\n",
    "         y_train_ohe,\n",
    "         nb_epoch=50,\n",
    "         batch_size=300,\n",
    "         verbose=1,\n",
    "         validation_split=0.1)\n",
    "         #,show_accuracy=True) Deprecated"
   ]
  },
  {
   "cell_type": "code",
   "execution_count": 63,
   "metadata": {
    "collapsed": false
   },
   "outputs": [
    {
     "name": "stdout",
     "output_type": "stream",
     "text": [
      "First 3 predictions:  [5 0 4]\n"
     ]
    }
   ],
   "source": [
    "y_train_pred = model.predict_classes(X_train,verbose=0)\n",
    "print('First 3 predictions: ',y_train_pred[:3])"
   ]
  },
  {
   "cell_type": "code",
   "execution_count": 64,
   "metadata": {
    "collapsed": false
   },
   "outputs": [
    {
     "name": "stdout",
     "output_type": "stream",
     "text": [
      "Training accuracy: 96.59%\n"
     ]
    }
   ],
   "source": [
    "train_acc = np.sum(y_train==y_train_pred,axis=0) / X_train.shape[0]\n",
    "print('Training accuracy: %.2f%%'% (train_acc*100))"
   ]
  },
  {
   "cell_type": "code",
   "execution_count": 65,
   "metadata": {
    "collapsed": false
   },
   "outputs": [
    {
     "name": "stdout",
     "output_type": "stream",
     "text": [
      "Test accuracy: 95.47%\n"
     ]
    }
   ],
   "source": [
    "y_test_pred = model.predict_classes(X_test,verbose=0)\n",
    "test_acc = np.sum(y_test==y_test_pred,axis=0) / X_test.shape[0]\n",
    "print('Test accuracy: %.2f%%'% (test_acc*100))"
   ]
  },
  {
   "cell_type": "code",
   "execution_count": null,
   "metadata": {
    "collapsed": true
   },
   "outputs": [],
   "source": []
  }
 ],
 "metadata": {
  "kernelspec": {
   "display_name": "Python 3",
   "language": "python",
   "name": "python3"
  },
  "language_info": {
   "codemirror_mode": {
    "name": "ipython",
    "version": 3
   },
   "file_extension": ".py",
   "mimetype": "text/x-python",
   "name": "python",
   "nbconvert_exporter": "python",
   "pygments_lexer": "ipython3",
   "version": "3.5.1"
  }
 },
 "nbformat": 4,
 "nbformat_minor": 0
}
